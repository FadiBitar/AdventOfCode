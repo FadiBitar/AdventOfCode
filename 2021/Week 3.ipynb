{
 "cells": [
  {
   "cell_type": "code",
   "execution_count": 59,
   "id": "1a1bad58-d4eb-4cea-8f30-f799db3e0f8e",
   "metadata": {},
   "outputs": [
    {
     "name": "stdout",
     "output_type": "stream",
     "text": [
      "Running on test data. Verifying result...\n",
      "True\n",
      "\n",
      "Puzzle answer is: 621\n"
     ]
    }
   ],
   "source": [
    "# Day 15 part 1\n",
    "import numpy as np\n",
    "import networkx as nx\n",
    "\n",
    "def read_input_data(filename):\n",
    "    with open(filename, 'r') as in_file:\n",
    "        raw_data = in_file.read().split('\\n')\n",
    "    data = [list(row) for row in raw_data]\n",
    "    return np.array(data, dtype=np.int32)\n",
    "\n",
    "\n",
    "def get_lowest_risk_path(data):\n",
    "    graph = nx.grid_2d_graph(*data.shape, create_using=nx.DiGraph)\n",
    "    for (_, v), e in graph.edges.items():\n",
    "        e[\"weight\"] = data[v]\n",
    "    source, *_, target = graph.nodes\n",
    "    return nx.shortest_path_length(graph, source, target, weight=\"weight\")\n",
    "\n",
    "\n",
    "# Test first\n",
    "test_data = read_input_data('test_data/day15.txt')\n",
    "print(\"Running on test data. Verifying result...\")\n",
    "print(get_lowest_risk_path(test_data) == 40)\n",
    "print('')\n",
    "\n",
    "# Now run on actual data\n",
    "real_data = read_input_data('data/day15.txt')\n",
    "result = get_lowest_risk_path(real_data)\n",
    "print(\"Puzzle answer is: \" + str(result))"
   ]
  },
  {
   "cell_type": "code",
   "execution_count": 58,
   "id": "ab2be0ef-5ee7-4eac-ba4d-6802820e092f",
   "metadata": {},
   "outputs": [
    {
     "name": "stdout",
     "output_type": "stream",
     "text": [
      "True\n",
      "\n",
      "Puzzle answer is: 2904\n"
     ]
    }
   ],
   "source": [
    "def expand_map(data):\n",
    "    data = np.vstack([np.hstack([data + i + j for i in range(5)]) for j in range(5)])\n",
    "    data[data > 9] -= 9\n",
    "    return data\n",
    "\n",
    "# Test first\n",
    "test_data = read_input_data('test_data/day15.txt')\n",
    "test_data = expand_map(test_data)\n",
    "print(get_lowest_risk_path(test_data) == 315)\n",
    "print('')\n",
    "\n",
    "# Now run on actual data\n",
    "real_data = read_input_data('data/day15.txt')\n",
    "real_data = expand_map(real_data)\n",
    "result = get_lowest_risk_path(real_data)\n",
    "print(\"Puzzle answer is: \" + str(result))"
   ]
  },
  {
   "cell_type": "code",
   "execution_count": null,
   "id": "6584550f-e673-4cba-b203-d70a889af3db",
   "metadata": {},
   "outputs": [],
   "source": []
  }
 ],
 "metadata": {
  "kernelspec": {
   "display_name": "Python 3 (ipykernel)",
   "language": "python",
   "name": "python3"
  },
  "language_info": {
   "codemirror_mode": {
    "name": "ipython",
    "version": 3
   },
   "file_extension": ".py",
   "mimetype": "text/x-python",
   "name": "python",
   "nbconvert_exporter": "python",
   "pygments_lexer": "ipython3",
   "version": "3.9.7"
  }
 },
 "nbformat": 4,
 "nbformat_minor": 5
}
