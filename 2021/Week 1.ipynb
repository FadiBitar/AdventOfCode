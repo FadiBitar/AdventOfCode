{
 "cells": [
  {
   "cell_type": "code",
   "execution_count": 7,
   "id": "64b1a742-e3b7-4ef8-9249-f0808a0b85af",
   "metadata": {},
   "outputs": [
    {
     "name": "stdout",
     "output_type": "stream",
     "text": [
      "Running on test data. Verifying result...\n",
      "True\n",
      "\n",
      "Puzzle answer is: 1298\n"
     ]
    }
   ],
   "source": [
    "# Day 1 Part 1\n",
    "import numpy as np\n",
    "\n",
    "def count_increases(data):\n",
    "    previous = data[0]\n",
    "    n_increases = 0\n",
    "    for item in data[1:]:\n",
    "        if item > previous:\n",
    "            n_increases = n_increases + 1\n",
    "        previous = item\n",
    "    return n_increases\n",
    "\n",
    "# Test first\n",
    "test_data = np.loadtxt('test_data/day1.txt', dtype=np.int32)\n",
    "\n",
    "print(\"Running on test data. Verifying result...\")\n",
    "test_result = count_increases(test_data)\n",
    "print(test_result == 7)\n",
    "print('')\n",
    "\n",
    "# Now run on actual data\n",
    "real_data = np.loadtxt('data/day1.txt', dtype=np.int32)\n",
    "\n",
    "result = count_increases(real_data)\n",
    "print(\"Puzzle answer is: \" + str(result))"
   ]
  },
  {
   "cell_type": "code",
   "execution_count": 31,
   "id": "e86de0ec-306f-471b-be87-905d77ec56d0",
   "metadata": {},
   "outputs": [
    {
     "name": "stdout",
     "output_type": "stream",
     "text": [
      "Running on test data. Verifying result...\n",
      "True\n",
      "\n",
      "Puzzle answer is: 1248\n"
     ]
    }
   ],
   "source": [
    "# Day 1 Part 2\n",
    "import numpy as np\n",
    "\n",
    "fake_sliding_window = []\n",
    "\n",
    "def sliding_window(data):\n",
    "    return [sum(data[x:x+3]) for x in range(0, len(data)-2)]\n",
    "\n",
    "# Test first\n",
    "test_data = np.loadtxt('test_data/day1.txt', dtype=np.int32)\n",
    "\n",
    "print(\"Running on test data. Verifying result...\")\n",
    "test_result = count_increases(sliding_window(test_data))\n",
    "print(test_result == 5)\n",
    "print('')\n",
    "\n",
    "# Now run on actual data\n",
    "real_data = np.loadtxt('data/day1.txt', dtype=np.int32)\n",
    "result = count_increases(sliding_window(real_data))\n",
    "print(\"Puzzle answer is: \" + str(result))"
   ]
  },
  {
   "cell_type": "code",
   "execution_count": 7,
   "id": "bd940585-8feb-4d65-b331-b7114697f716",
   "metadata": {},
   "outputs": [
    {
     "name": "stdout",
     "output_type": "stream",
     "text": [
      "Running on test data. Verifying result...\n",
      "True\n",
      "\n",
      "Puzzle answer is: 2215080\n"
     ]
    }
   ],
   "source": [
    "# Day 2 Part 1\n",
    "\n",
    "def navigate(data):\n",
    "    position = 0\n",
    "    depth = 0\n",
    "    for move in data:\n",
    "        command, amount = move.split(' ')\n",
    "        amount = int(amount)\n",
    "        if command == \"forward\":\n",
    "            position = position + amount\n",
    "        elif command == \"down\":\n",
    "            depth = depth + amount\n",
    "        elif command == \"up\":\n",
    "            depth = depth - amount\n",
    "    return position * depth\n",
    "    \n",
    "# Test first\n",
    "with open('test_data/day2.txt', 'r') as in_file:\n",
    "    test_data = in_file.read().split('\\n')    \n",
    "\n",
    "print(\"Running on test data. Verifying result...\")\n",
    "print(navigate(test_data) == 150)\n",
    "print('')\n",
    "\n",
    "# Now run on actual data\n",
    "with open('data/day2.txt', 'r') as in_file:\n",
    "    real_data = in_file.read().split('\\n')\n",
    "result = navigate(real_data)\n",
    "print(\"Puzzle answer is: \" + str(result))"
   ]
  },
  {
   "cell_type": "code",
   "execution_count": 13,
   "id": "64252dd8-4077-455a-b499-7b722c175a8f",
   "metadata": {},
   "outputs": [
    {
     "name": "stdout",
     "output_type": "stream",
     "text": [
      "Running on test data. Verifying result...\n",
      "True\n",
      "\n",
      "Puzzle answer is: 1864715580\n"
     ]
    }
   ],
   "source": [
    "# Day 2 Part 2\n",
    "\n",
    "def navigate_with_aim(data):\n",
    "    position = 0\n",
    "    depth = 0\n",
    "    aim = 0\n",
    "    for move in data:\n",
    "        command, amount = move.split(' ')\n",
    "        amount = int(amount)\n",
    "        if command == \"forward\":\n",
    "            position = position + amount\n",
    "            depth = depth + amount * aim\n",
    "        elif command == \"down\":\n",
    "            aim = aim + amount\n",
    "        elif command == \"up\":\n",
    "            aim = aim - amount\n",
    "    return position * depth\n",
    "\n",
    "# Test first\n",
    "with open('test_data/day2.txt', 'r') as in_file:\n",
    "    test_data = in_file.read().split('\\n')    \n",
    "\n",
    "print(\"Running on test data. Verifying result...\")\n",
    "print(navigate_with_aim(test_data) == 900)\n",
    "print('')\n",
    "\n",
    "# Now run on actual data\n",
    "with open('data/day2.txt', 'r') as in_file:\n",
    "    real_data = in_file.read().split('\\n')\n",
    "result = navigate_with_aim(real_data)\n",
    "print(\"Puzzle answer is: \" + str(result))"
   ]
  },
  {
   "cell_type": "code",
   "execution_count": 26,
   "id": "ea8aaec6-e44f-4050-b46f-ddaef6df8e56",
   "metadata": {},
   "outputs": [
    {
     "name": "stdout",
     "output_type": "stream",
     "text": [
      "Running on test data. Verifying result...\n",
      "True\n",
      "\n",
      "Puzzle answer is: 3895776\n"
     ]
    }
   ],
   "source": [
    "# Day 3 Part 1\n",
    "\n",
    "def get_gamma_epsilon_rate(data):\n",
    "    gamma_rate = []\n",
    "    epsilon_rate = []\n",
    "    bit_depth = len(data[0])\n",
    "    n_items = len(data)\n",
    "    for i in range(0, bit_depth):\n",
    "        sum = 0\n",
    "        for item in data:\n",
    "            sum = sum + int(item[i])\n",
    "        if sum >= n_items / 2.0:\n",
    "            gamma_rate.append(1)\n",
    "            epsilon_rate.append(0)\n",
    "        else:\n",
    "            gamma_rate.append(0)\n",
    "            epsilon_rate.append(1)\n",
    "    return gamma_rate, epsilon_rate\n",
    "\n",
    "def calculate_power_consumption(data):\n",
    "    gamma_rate, epsilon_rate = get_gamma_epsilon_rate(data)\n",
    "    \n",
    "    gamma = int(\"\".join(str(x) for x in gamma_rate), 2)\n",
    "    epsilon = int(\"\".join(str(x) for x in epsilon_rate), 2)\n",
    "    return gamma * epsilon\n",
    "\n",
    "# Test first\n",
    "with open('test_data/day3.txt', 'r') as in_file:\n",
    "    test_data = in_file.read().split('\\n')    \n",
    "\n",
    "print(\"Running on test data. Verifying result...\")\n",
    "print(calculate_power_consumption(test_data) == 198)\n",
    "print('')\n",
    "\n",
    "# Now run on actual data\n",
    "with open('data/day3.txt', 'r') as in_file:\n",
    "    real_data = in_file.read().split('\\n')\n",
    "result = calculate_power_consumption(real_data)\n",
    "print(\"Puzzle answer is: \" + str(result))"
   ]
  },
  {
   "cell_type": "code",
   "execution_count": 31,
   "id": "10856469-e376-4741-86dc-accbd5f71764",
   "metadata": {},
   "outputs": [
    {
     "name": "stdout",
     "output_type": "stream",
     "text": [
      "Running on test data. Verifying result...\n",
      "True\n",
      "\n",
      "Puzzle answer is: 7928162\n"
     ]
    }
   ],
   "source": [
    "# Day 3 Part 2\n",
    "\n",
    "def get_oxy_co2_rates(data):\n",
    "    oxy_candidates = data.copy()\n",
    "    co2_candidates = data.copy()\n",
    "    \n",
    "    bit_depth = len(data[0])\n",
    "    gamma_rate, epsilon_rate = get_gamma_epsilon_rate(data)\n",
    "    \n",
    "    for i in range(0, bit_depth):\n",
    "        if len(oxy_candidates) > 1:\n",
    "            oxy_candidates = [item for item in oxy_candidates if int(item[i]) == gamma_rate[i]]\n",
    "        if len(co2_candidates) > 1:\n",
    "            co2_candidates = [item for item in co2_candidates if int(item[i]) == epsilon_rate[i]]\n",
    "        gamma_rate, _ = get_gamma_epsilon_rate(oxy_candidates)\n",
    "        _, epsilon_rate = get_gamma_epsilon_rate(co2_candidates)\n",
    "        \n",
    "    oxy = int(\"\".join(str(x) for x in oxy_candidates[0]), 2)\n",
    "    co2 = int(\"\".join(str(x) for x in co2_candidates[0]), 2)\n",
    "    return oxy * co2\n",
    "    \n",
    "\n",
    "# Test first\n",
    "with open('test_data/day3.txt', 'r') as in_file:\n",
    "    test_data = in_file.read().split('\\n')    \n",
    "\n",
    "print(\"Running on test data. Verifying result...\")\n",
    "print(get_oxy_co2_rates(test_data) == 230)\n",
    "print('')\n",
    "\n",
    "# Now run on actual data\n",
    "with open('data/day3.txt', 'r') as in_file:\n",
    "    real_data = in_file.read().split('\\n')\n",
    "result = get_oxy_co2_rates(real_data)\n",
    "print(\"Puzzle answer is: \" + str(result))"
   ]
  },
  {
   "cell_type": "code",
   "execution_count": 109,
   "id": "23a1b04d-46ed-4218-89a9-e55b46d138de",
   "metadata": {},
   "outputs": [
    {
     "name": "stdout",
     "output_type": "stream",
     "text": [
      "Running on test data. Verifying result...\n",
      "True\n",
      "\n",
      "Puzzle answer is: 21607\n"
     ]
    }
   ],
   "source": [
    "# Day 4 Part 1\n",
    "import numpy as np\n",
    "\n",
    "def read_input_data(filename):\n",
    "    with open(filename, 'r') as in_file:\n",
    "        raw_input = in_file.read().split('\\n\\n')\n",
    "    \n",
    "    numbers = [int(x) for x in raw_input[0].split(',')]\n",
    "    \n",
    "    boards = []\n",
    "    for i in range (1, len(raw_input)):\n",
    "        boards.append([[int(x) for x in row.split()] for row in raw_input[i].strip().split('\\n')])\n",
    "    return numbers, np.array(boards)\n",
    "\n",
    "\n",
    "def play_bingo(numbers, boards):\n",
    "    match_boards = np.full_like(boards, 1)\n",
    "    for draw in numbers:\n",
    "        for i in range(0, len(boards)):\n",
    "            match = np.where(boards[i] == draw)\n",
    "            match_boards[i][match[0], match[1]] = 0\n",
    "            \n",
    "            row_sums = np.sum(match_boards[i], axis = 1)\n",
    "            col_sums = np.sum(match_boards[i], axis = 0)\n",
    "            \n",
    "            if len(np.where(row_sums == 0)[0]) > 0 or len(np.where(col_sums == 0)[0]) > 0:\n",
    "                return draw * np.sum(np.multiply(boards[i], match_boards[i]))\n",
    "\n",
    "\n",
    "# Test first\n",
    "test_numbers, test_boards = read_input_data('test_data/day4.txt')\n",
    "print(\"Running on test data. Verifying result...\")\n",
    "print(play_bingo(test_numbers, test_boards) == 4512)\n",
    "print('')\n",
    "\n",
    "# Now run on actual data\n",
    "real_numbers, real_boards = read_input_data('data/day4.txt')\n",
    "result = play_bingo(real_numbers, real_boards)\n",
    "print(\"Puzzle answer is: \" + str(result))"
   ]
  },
  {
   "cell_type": "code",
   "execution_count": 112,
   "id": "05616061-a7f7-4e21-ac19-28d5f75adf0b",
   "metadata": {},
   "outputs": [
    {
     "name": "stdout",
     "output_type": "stream",
     "text": [
      "Running on test data. Verifying result...\n",
      "True\n",
      "\n",
      "Puzzle answer is: 19012\n"
     ]
    }
   ],
   "source": [
    "# Day 4 Part 2\n",
    "\n",
    "def play_bingo_modified(numbers, boards):\n",
    "    match_boards = np.full_like(boards, 1)\n",
    "    board_in_play = np.ones(len(boards))\n",
    "    \n",
    "    last_magic_number = 0\n",
    "    \n",
    "    for draw in numbers:\n",
    "        for i in range(0, len(boards)):\n",
    "            if board_in_play[i]:\n",
    "                match = np.where(boards[i] == draw)\n",
    "                match_boards[i][match[0], match[1]] = 0\n",
    "\n",
    "                row_sums = np.sum(match_boards[i], axis = 1)\n",
    "                col_sums = np.sum(match_boards[i], axis = 0)\n",
    "\n",
    "                if len(np.where(row_sums == 0)[0]) > 0 or len(np.where(col_sums == 0)[0]) > 0:\n",
    "                    board_in_play[i] = 0\n",
    "                    last_magic_number = draw * np.sum(np.multiply(boards[i], match_boards[i]))\n",
    "    return last_magic_number\n",
    "            \n",
    "# Test first\n",
    "test_numbers, test_boards = read_input_data('test_data/day4.txt')\n",
    "print(\"Running on test data. Verifying result...\")\n",
    "print(play_bingo_modified(test_numbers, test_boards) == 1924)\n",
    "print('')\n",
    "\n",
    "# Now run on actual data\n",
    "real_numbers, real_boards = read_input_data('data/day4.txt')\n",
    "result = play_bingo_modified(real_numbers, real_boards)\n",
    "print(\"Puzzle answer is: \" + str(result))"
   ]
  },
  {
   "cell_type": "code",
   "execution_count": 137,
   "id": "138a17fc-d4da-43dc-b8e1-7d027bd4a556",
   "metadata": {},
   "outputs": [
    {
     "name": "stdout",
     "output_type": "stream",
     "text": [
      "Running on test data. Verifying result...\n",
      "True\n",
      "\n",
      "Puzzle answer is: 6113\n"
     ]
    }
   ],
   "source": [
    "# Day 5 Part 1\n",
    "import re\n",
    "import numpy as np\n",
    "\n",
    "class vent:\n",
    "    def __init__(self, tup):\n",
    "        self.x1 = int(tup[0])\n",
    "        self.y1 = int(tup[1])\n",
    "        self.x2 = int(tup[2])\n",
    "        self.y2 = int(tup[3])\n",
    "\n",
    "    def __str__(self):\n",
    "        return str(self.x1) + \" \" + str(self.y1) + \" - \" + str(self.x2) + \" \" + str(self.y2)\n",
    "    \n",
    "\n",
    "def read_input_data(filename):\n",
    "    with open(filename, 'r') as in_file:\n",
    "        raw_data = in_file.read().split('\\n')\n",
    "    data = []\n",
    "        \n",
    "    p = re.compile(\"([0-9]*),([0-9]*) -> ([0-9]*),([0-9]*)\")\n",
    "    for line in raw_data:\n",
    "        data.append(vent(p.findall(line)[0]))\n",
    "    return data\n",
    "        \n",
    "\n",
    "def count_highest_overlaps(data):\n",
    "    board = np.zeros((1000, 1000))\n",
    "    \n",
    "    for line in data:\n",
    "        if line.x1 == line.x2:\n",
    "            for i in range (min(line.y1, line.y2), max(line.y1, line.y2) + 1):\n",
    "                board[i][line.x1] = board[i][line.x1] + 1\n",
    "            \n",
    "        if line.y1 == line.y2:\n",
    "            for i in range (min(line.x1, line.x2), max(line.x1, line.x2) + 1):\n",
    "                board[line.y1][i] = board[line.y1][i] + 1\n",
    "    return np.count_nonzero(board >= 2)\n",
    "\n",
    "# Test first\n",
    "test_data = read_input_data('test_data/day5.txt')\n",
    "print(\"Running on test data. Verifying result...\")\n",
    "print(count_highest_overlaps(test_data) == 5)\n",
    "print('')\n",
    "\n",
    "# Now run on actual data\n",
    "real_data = read_input_data('data/day5.txt')\n",
    "result = count_highest_overlaps(real_data)\n",
    "print(\"Puzzle answer is: \" + str(result))"
   ]
  },
  {
   "cell_type": "code",
   "execution_count": 163,
   "id": "534d46da-744e-43bb-aacf-466af8fe8cbc",
   "metadata": {},
   "outputs": [
    {
     "name": "stdout",
     "output_type": "stream",
     "text": [
      "Running on test data. Verifying result...\n",
      "12\n",
      "True\n",
      "\n",
      "20373\n",
      "Puzzle answer is: 20373\n"
     ]
    }
   ],
   "source": [
    "# Day 5 Part 2\n",
    "\n",
    "def count_highest_overlaps_again(data):\n",
    "    board = np.zeros((1000, 1000))\n",
    "    \n",
    "    for line in data:\n",
    "        if line.x1 == line.x2:\n",
    "            for i in range (min(line.y1, line.y2), max(line.y1, line.y2) + 1):\n",
    "                board[i][line.x1] = board[i][line.x1] + 1\n",
    "            \n",
    "        elif line.y1 == line.y2:\n",
    "            for i in range (min(line.x1, line.x2), max(line.x1, line.x2) + 1):\n",
    "                board[line.y1][i] = board[line.y1][i] + 1\n",
    "                \n",
    "        else:\n",
    "            # stupid but should work\n",
    "            if line.x1 < line.x2 and line.y1 < line.y2:\n",
    "                for i in range(0, line.x2 - line.x1 + 1):\n",
    "                    board[line.y1 + i][line.x1 + i] = board[line.y1 + i][line.x1 + i] + 1\n",
    "            if line.x1 > line.x2 and line.y1 > line.y2:\n",
    "                for i in range(0, line.x1 - line.x2 + 1):\n",
    "                    board[line.y1 - i][line.x1 - i] = board[line.y1 - i][line.x1 - i] + 1\n",
    "            if line.x1 > line.x2 and line.y1 < line.y2:\n",
    "                for i in range(0, line.x1 - line.x2 + 1):\n",
    "                    board[line.y1 + i][line.x1 - i] = board[line.y1 + i][line.x1 - i] + 1\n",
    "            if line.x1 < line.x2 and line.y1 > line.y2:\n",
    "                for i in range(0, line.x2 - line.x1 + 1):\n",
    "                    board[line.y1 - i][line.x1 + i] = board[line.y1 - i][line.x1 + i] + 1\n",
    "                \n",
    "    print(np.count_nonzero(board >= 2))\n",
    "    return np.count_nonzero(board >= 2)\n",
    "\n",
    "# Test first\n",
    "test_data = read_input_data('test_data/day5.txt')\n",
    "print(\"Running on test data. Verifying result...\")\n",
    "print(count_highest_overlaps_again(test_data) == 12)\n",
    "print('')\n",
    "\n",
    "# Now run on actual data\n",
    "real_data = read_input_data('data/day5.txt')\n",
    "result = count_highest_overlaps_again(real_data)\n",
    "print(\"Puzzle answer is: \" + str(result))"
   ]
  },
  {
   "cell_type": "code",
   "execution_count": null,
   "id": "63635f1b-eb77-44e1-8d26-9b5e0f471076",
   "metadata": {},
   "outputs": [],
   "source": []
  }
 ],
 "metadata": {
  "kernelspec": {
   "display_name": "Python 3 (ipykernel)",
   "language": "python",
   "name": "python3"
  },
  "language_info": {
   "codemirror_mode": {
    "name": "ipython",
    "version": 3
   },
   "file_extension": ".py",
   "mimetype": "text/x-python",
   "name": "python",
   "nbconvert_exporter": "python",
   "pygments_lexer": "ipython3",
   "version": "3.9.7"
  }
 },
 "nbformat": 4,
 "nbformat_minor": 5
}
