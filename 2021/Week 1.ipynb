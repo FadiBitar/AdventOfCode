{
 "cells": [
  {
   "cell_type": "code",
   "execution_count": 7,
   "id": "64b1a742-e3b7-4ef8-9249-f0808a0b85af",
   "metadata": {},
   "outputs": [
    {
     "name": "stdout",
     "output_type": "stream",
     "text": [
      "Running on test data. Verifying result...\n",
      "True\n",
      "\n",
      "Puzzle answer is: 1298\n"
     ]
    }
   ],
   "source": [
    "# Day 1 Part 1\n",
    "import numpy as np\n",
    "\n",
    "def count_increases(data):\n",
    "    previous = data[0]\n",
    "    n_increases = 0\n",
    "    for item in data[1:]:\n",
    "        if item > previous:\n",
    "            n_increases = n_increases + 1\n",
    "        previous = item\n",
    "    return n_increases\n",
    "\n",
    "# Test first\n",
    "test_data = np.loadtxt('test_data/day1.txt', dtype=np.int32)\n",
    "\n",
    "print(\"Running on test data. Verifying result...\")\n",
    "test_result = count_increases(test_data)\n",
    "print(test_result == 7)\n",
    "print('')\n",
    "\n",
    "# Now run on actual data\n",
    "real_data = np.loadtxt('data/day1.txt', dtype=np.int32)\n",
    "\n",
    "result = count_increases(real_data)\n",
    "print(\"Puzzle answer is: \" + str(result))"
   ]
  },
  {
   "cell_type": "code",
   "execution_count": 31,
   "id": "e86de0ec-306f-471b-be87-905d77ec56d0",
   "metadata": {},
   "outputs": [
    {
     "name": "stdout",
     "output_type": "stream",
     "text": [
      "Running on test data. Verifying result...\n",
      "True\n",
      "\n",
      "Puzzle answer is: 1248\n"
     ]
    }
   ],
   "source": [
    "# Day 1 Part 2\n",
    "import numpy as np\n",
    "\n",
    "fake_sliding_window = []\n",
    "\n",
    "def sliding_window(data):\n",
    "    return [sum(data[x:x+3]) for x in range(0, len(data)-2)]\n",
    "\n",
    "# Test first\n",
    "test_data = np.loadtxt('test_data/day1.txt', dtype=np.int32)\n",
    "\n",
    "print(\"Running on test data. Verifying result...\")\n",
    "test_result = count_increases(sliding_window(test_data))\n",
    "print(test_result == 5)\n",
    "print('')\n",
    "\n",
    "# Now run on actual data\n",
    "real_data = np.loadtxt('data/day1.txt', dtype=np.int32)\n",
    "result = count_increases(sliding_window(real_data))\n",
    "print(\"Puzzle answer is: \" + str(result))"
   ]
  }
 ],
 "metadata": {
  "kernelspec": {
   "display_name": "Python 3 (ipykernel)",
   "language": "python",
   "name": "python3"
  },
  "language_info": {
   "codemirror_mode": {
    "name": "ipython",
    "version": 3
   },
   "file_extension": ".py",
   "mimetype": "text/x-python",
   "name": "python",
   "nbconvert_exporter": "python",
   "pygments_lexer": "ipython3",
   "version": "3.9.7"
  }
 },
 "nbformat": 4,
 "nbformat_minor": 5
}
