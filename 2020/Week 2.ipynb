{
 "cells": [
  {
   "cell_type": "code",
   "execution_count": 35,
   "metadata": {},
   "outputs": [
    {
     "name": "stdout",
     "output_type": "stream",
     "text": [
      "Running on test data. Verifying result...\n",
      "True\n",
      "\n",
      "Puzzle answer is: 1675\n"
     ]
    }
   ],
   "source": [
    "# Day 8 Part 1\n",
    "\n",
    "def get_accumulator_value(instructions):\n",
    "    idx = 0\n",
    "    accumulator = 0\n",
    "    instructions = [[x[:3], int(x[4:]), False] for x in instructions]\n",
    "    \n",
    "    while(True):\n",
    "        if instructions[idx][2]:\n",
    "            return accumulator\n",
    "        \n",
    "        instructions[idx][2] = True\n",
    "        if instructions[idx][0] == 'nop':\n",
    "            idx = idx + 1\n",
    "        elif instructions[idx][0] == 'acc':\n",
    "            accumulator = accumulator + instructions[idx][1]\n",
    "            idx = idx + 1\n",
    "        elif instructions[idx][0] == 'jmp':\n",
    "            idx = idx + instructions[idx][1]\n",
    "    \n",
    "# Test first\n",
    "with open('test_data/day8.txt', 'r') as in_file:\n",
    "    test_data = in_file.read().split('\\n')\n",
    "\n",
    "print(\"Running on test data. Verifying result...\")\n",
    "print(get_accumulator_value(test_data) == 5)\n",
    "print('')\n",
    "\n",
    "# Now run on actual data\n",
    "with open('data/day8.txt', 'r') as in_file:\n",
    "    real_data = in_file.read().split('\\n')\n",
    "\n",
    "print(\"Puzzle answer is: \" + str(get_accumulator_value(real_data)))"
   ]
  },
  {
   "cell_type": "code",
   "execution_count": 46,
   "metadata": {},
   "outputs": [
    {
     "name": "stdout",
     "output_type": "stream",
     "text": [
      "Running on test data. Verifying result...\n",
      "True\n",
      "\n",
      "Puzzle answer is: 1532\n"
     ]
    }
   ],
   "source": [
    "# Day 8 Part 2\n",
    "\n",
    "import copy\n",
    "\n",
    "def get_accumulator_value2(instructions):\n",
    "    idx = 0\n",
    "    accumulator = 0\n",
    "    \n",
    "    while(True):                \n",
    "        if idx == len(instructions):\n",
    "            return True, accumulator\n",
    "        if instructions[idx][2]:\n",
    "            return False, accumulator\n",
    "        \n",
    "        instructions[idx][2] = True\n",
    "        if instructions[idx][0] == 'nop':\n",
    "            idx = idx + 1\n",
    "        elif instructions[idx][0] == 'acc':\n",
    "            accumulator = accumulator + instructions[idx][1]\n",
    "            idx = idx + 1\n",
    "        elif instructions[idx][0] == 'jmp':\n",
    "            idx = idx + instructions[idx][1]\n",
    "\n",
    "def fix_infinite_loop(instructions):\n",
    "    instructions = [[x[:3], int(x[4:]), False] for x in instructions]\n",
    "    for i in range(0, len(instructions)):\n",
    "        inst_copy = copy.deepcopy(instructions)\n",
    "        if inst_copy[i][0] == 'nop':\n",
    "            inst_copy[i][0] = 'jmp'\n",
    "        elif inst_copy[i][0] == 'jmp':\n",
    "            inst_copy[i][0] = 'nop'\n",
    "        else:\n",
    "            continue\n",
    "        \n",
    "        success, acc = get_accumulator_value2(inst_copy)\n",
    "        if success:\n",
    "            return success, acc\n",
    "    return False, -1\n",
    "            \n",
    "    \n",
    "print(\"Running on test data. Verifying result...\")\n",
    "print(fix_infinite_loop(test_data) == (True, 8))\n",
    "print('')\n",
    "\n",
    "# Now run on actual data\n",
    "print(\"Puzzle answer is: \" + str(fix_infinite_loop(real_data)[1]))"
   ]
  },
  {
   "cell_type": "code",
   "execution_count": 63,
   "metadata": {},
   "outputs": [
    {
     "name": "stdout",
     "output_type": "stream",
     "text": [
      "Running on test data. Verifying result...\n",
      "True\n",
      "\n",
      "Puzzle answer is: 1309761972\n"
     ]
    }
   ],
   "source": [
    "# Day 9 Part 1\n",
    "\n",
    "import numpy as np\n",
    "\n",
    "def can_find_two_entries(data, target_number):\n",
    "    for item in data:\n",
    "        temp = target_number - item\n",
    "        try:\n",
    "            data.tolist().index(temp)\n",
    "            return True\n",
    "        except:\n",
    "            pass\n",
    "    return False\n",
    "\n",
    "def find_weakness(data, preamble_size):\n",
    "    for i in range(preamble_size, len(data)):\n",
    "        preamble = np.sort(data[i-preamble_size:i])\n",
    "        number = data[i]\n",
    "        if not can_find_two_entries(preamble, number):\n",
    "            return number\n",
    "\n",
    "test_data = np.loadtxt('test_data/day9.txt', dtype=np.int64)\n",
    "print(\"Running on test data. Verifying result...\")\n",
    "print(find_weakness(test_data, 5) == 127)\n",
    "print('')\n",
    "\n",
    "real_data = np.loadtxt('data/day9.txt', dtype=np.int64)\n",
    "print(\"Puzzle answer is: \" + str(find_weakness(real_data, 25)))"
   ]
  },
  {
   "cell_type": "code",
   "execution_count": 68,
   "metadata": {},
   "outputs": [
    {
     "name": "stdout",
     "output_type": "stream",
     "text": [
      "Running on test data. Verifying result...\n",
      "True\n",
      "\n",
      "Puzzle answer is: 177989832\n"
     ]
    }
   ],
   "source": [
    "# Day 9 Part 2\n",
    "\n",
    "def find_contiguous_sum(data, list_width, target_number):\n",
    "    for i in range(0, len(data) - list_width):\n",
    "        if np.sum(data[i:i + list_width]) == target_number:\n",
    "            return data[i:i + list_width]\n",
    "    \n",
    "def crack_encryption(data, target_number):\n",
    "    for list_width in range(2, len(data)-1):\n",
    "        numbers = find_contiguous_sum(data, list_width, target_number)\n",
    "        if numbers is not None:\n",
    "            numbers = np.sort(numbers)\n",
    "            return numbers[0] + numbers[list_width-1]\n",
    "    \n",
    "test_data = np.loadtxt('test_data/day9.txt', dtype=np.int64)\n",
    "print(\"Running on test data. Verifying result...\")\n",
    "print(crack_encryption(test_data, 127) == 62)\n",
    "print('')\n",
    "\n",
    "real_data = np.loadtxt('data/day9.txt', dtype=np.int64)\n",
    "print(\"Puzzle answer is: \" + str(crack_encryption(real_data, 1309761972)))"
   ]
  },
  {
   "cell_type": "code",
   "execution_count": 115,
   "metadata": {},
   "outputs": [
    {
     "name": "stdout",
     "output_type": "stream",
     "text": [
      "Running on test data. Verifying result...\n",
      "True\n",
      "True\n",
      "\n",
      "Puzzle answer is: 2590\n"
     ]
    }
   ],
   "source": [
    "# Day 10 Part 1\n",
    "\n",
    "def count_1_and_3_jolt_differences(data):\n",
    "    data = np.sort(data)\n",
    "    diff1 = 0\n",
    "    diff3 = 1  #always will have a diff3 at the end\n",
    "    if data[0] == 1:\n",
    "        diff1 = 1\n",
    "    if data[0] == 3:\n",
    "        diff3 = diff3 + 1\n",
    "    \n",
    "    for i in range(1, len(data)):\n",
    "        if data[i] - data[i-1] == 1:\n",
    "            diff1 = diff1 + 1\n",
    "        if data[i] - data[i-1] == 3:\n",
    "            diff3 = diff3 + 1\n",
    "    return diff1, diff3\n",
    "            \n",
    "test_data = np.loadtxt('test_data/day10.txt', dtype=np.int32)\n",
    "test_data2 = np.loadtxt('test_data/day10_larger.txt', dtype=np.int32)\n",
    "print(\"Running on test data. Verifying result...\")\n",
    "print(count_1_and_3_jolt_differences(test_data) == (7, 5))\n",
    "print(count_1_and_3_jolt_differences(test_data2) == (22, 10))\n",
    "print('')\n",
    "\n",
    "real_data = np.loadtxt('data/day10.txt', dtype=np.int32)\n",
    "diff1, diff3 = count_1_and_3_jolt_differences(real_data)\n",
    "print(\"Puzzle answer is: \" + str(diff1*diff3))"
   ]
  },
  {
   "cell_type": "code",
   "execution_count": 130,
   "metadata": {},
   "outputs": [
    {
     "name": "stdout",
     "output_type": "stream",
     "text": [
      "Running on test data. Verifying result...\n",
      "True\n",
      "True\n",
      "\n",
      "Puzzle answer is: 226775649501184\n"
     ]
    }
   ],
   "source": [
    "# Day 10 Part 2\n",
    "from math import comb\n",
    "\n",
    "count_cache = {}\n",
    "\n",
    "def prepare_data(data):\n",
    "    sorted_data = np.sort(data)\n",
    "    temp = [0]\n",
    "    temp.extend([x for x in sorted_data])\n",
    "    temp.append(sorted_data[-1] + 3)\n",
    "    return temp\n",
    "\n",
    "def dynamic_count_combinations(data, i):\n",
    "    if i == len(data) - 1:\n",
    "        return 1\n",
    "    \n",
    "    if i in count_cache:\n",
    "        #print(count_cache)\n",
    "        return count_cache[i]\n",
    "    \n",
    "    count = 0\n",
    "    for j in range(i + 1, len(data)):\n",
    "        if data[j] - data[i] <= 3:\n",
    "            count += dynamic_count_combinations(data, j)\n",
    "\n",
    "    count_cache[i] = count\n",
    "    return count\n",
    "\n",
    "def count_combinations(data):\n",
    "    count_cache.clear()\n",
    "    return dynamic_count_combinations(prepare_data(data), 0)\n",
    "\n",
    "print(\"Running on test data. Verifying result...\")\n",
    "print(count_combinations(test_data) == 8)\n",
    "print(count_combinations(test_data2) == 19208)\n",
    "print('')\n",
    "\n",
    "print(\"Puzzle answer is: \" + str(count_combinations(real_data)))"
   ]
  }
 ],
 "metadata": {
  "kernelspec": {
   "display_name": "Python 3",
   "language": "python",
   "name": "python3"
  },
  "language_info": {
   "codemirror_mode": {
    "name": "ipython",
    "version": 3
   },
   "file_extension": ".py",
   "mimetype": "text/x-python",
   "name": "python",
   "nbconvert_exporter": "python",
   "pygments_lexer": "ipython3",
   "version": "3.8.5"
  }
 },
 "nbformat": 4,
 "nbformat_minor": 4
}
