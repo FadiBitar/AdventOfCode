{
 "cells": [
  {
   "cell_type": "code",
   "execution_count": 21,
   "metadata": {},
   "outputs": [
    {
     "name": "stdout",
     "output_type": "stream",
     "text": [
      "Running on test data. Verifying result...\n",
      "True\n",
      "\n",
      "Found two entries: 251 and 1769\n",
      "Puzzle answer is: 444019\n"
     ]
    }
   ],
   "source": [
    "# Day 1 Part 1\n",
    "import numpy as np\n",
    "\n",
    "def find_two_entries2020(data):\n",
    "    for item in data:\n",
    "        temp = 2020 - item\n",
    "        try:\n",
    "            data.tolist().index(temp)\n",
    "            return item, temp, item*temp\n",
    "        except:\n",
    "            pass\n",
    "\n",
    "# Test first\n",
    "test_data = np.loadtxt('test_data/day1.txt', dtype=np.int32)\n",
    "test_data = np.sort(test_data)\n",
    "\n",
    "print(\"Running on test data. Verifying result...\")\n",
    "test_result = find_two_entries2020(test_data)\n",
    "print(test_result == (299, 1721, 514579))\n",
    "print('')\n",
    "\n",
    "# Now run on actual data\n",
    "real_data = np.loadtxt('data/day1.txt', dtype=np.int32)\n",
    "real_data = np.sort(real_data)\n",
    "\n",
    "result = find_two_entries2020(real_data)\n",
    "print(\"Found two entries: \" + str(result[0]) + \" and \" + str(result[1]))\n",
    "print(\"Puzzle answer is: \" + str(result[2]))"
   ]
  },
  {
   "cell_type": "code",
   "execution_count": 23,
   "metadata": {
    "scrolled": false
   },
   "outputs": [
    {
     "name": "stdout",
     "output_type": "stream",
     "text": [
      "Running on test data. Verifying result...\n",
      "True\n",
      "\n",
      "Found three entries: 1589, 48, 383\n",
      "Puzzle answer is: 29212176\n"
     ]
    }
   ],
   "source": [
    "# Day 1 Part 2\n",
    "# Run part 1 first\n",
    "\n",
    "def find_three_entries2020(data):\n",
    "    lastQualifiedIndex = len(data) - 1\n",
    "\n",
    "    for item in data[::-1]:\n",
    "        temp = 2020 - item\n",
    "        for item2 in data:\n",
    "            if item2 > temp:\n",
    "                break\n",
    "            item3 = 2020 - item - item2\n",
    "            data_list = data.tolist()\n",
    "            try:\n",
    "                data_list.index(item3) > -1\n",
    "                return item, item2, item3, item * item2 * item3\n",
    "            except:\n",
    "                pass\n",
    "\n",
    "# Test first\n",
    "print(\"Running on test data. Verifying result...\")\n",
    "test_result = find_three_entries2020(test_data)\n",
    "print(test_result == (979, 366, 675, 241861950))\n",
    "print('')\n",
    "\n",
    "# Now run on actual data\n",
    "result = find_three_entries2020(real_data)\n",
    "print(\"Found three entries: \" + str(result[0]) + \", \" + str(result[1]) + \", \" + str(result[2]))\n",
    "print(\"Puzzle answer is: \" + str(result[3]))"
   ]
  },
  {
   "cell_type": "code",
   "execution_count": 25,
   "metadata": {},
   "outputs": [
    {
     "name": "stdout",
     "output_type": "stream",
     "text": [
      "Running on test data. Verifying result...\n",
      "True\n",
      "\n",
      "Puzzle answer is: 625\n"
     ]
    }
   ],
   "source": [
    "# Day 2 Part 1\n",
    "\n",
    "def count_valid_passwords(data):\n",
    "    nValidPasswords = 0\n",
    "\n",
    "    for entry in data:\n",
    "        ranges, letter, password = entry.split()\n",
    "        min_range, max_range = ranges.split('-')\n",
    "        min_range = int(min_range)\n",
    "        max_range = int(max_range)\n",
    "        letter = letter[:-1]\n",
    "\n",
    "        char_occurrences = password.count(letter)\n",
    "        if char_occurrences >= min_range and char_occurrences <= max_range:\n",
    "            nValidPasswords = nValidPasswords + 1\n",
    "    return nValidPasswords\n",
    "        \n",
    "# Test first\n",
    "with open('test_data/day2.txt', 'r') as in_file:\n",
    "    test_data = in_file.read().split('\\n')\n",
    "\n",
    "print(\"Running on test data. Verifying result...\")\n",
    "print(count_valid_passwords(test_data) == 2)\n",
    "print('')\n",
    "\n",
    "# Now run on actual data\n",
    "with open('data/day2.txt', 'r') as in_file:\n",
    "    real_data = in_file.read().split('\\n')\n",
    "\n",
    "print(\"Puzzle answer is: \" + str(count_valid_passwords(real_data)))"
   ]
  },
  {
   "cell_type": "code",
   "execution_count": 26,
   "metadata": {
    "scrolled": false
   },
   "outputs": [
    {
     "name": "stdout",
     "output_type": "stream",
     "text": [
      "Running on test data. Verifying result...\n",
      "True\n",
      "\n",
      "Puzzle answer is: 391\n"
     ]
    }
   ],
   "source": [
    "# Day 2 Part 2\n",
    "\n",
    "def count_valid_passwords2(data):\n",
    "    nValidPasswords = 0\n",
    "    \n",
    "    for entry in data:\n",
    "        indices, letter, password = entry.split()\n",
    "        index1, index2 = indices.split('-')\n",
    "        index1 = int(index1)\n",
    "        index2 = int(index2)\n",
    "        letter = letter[:-1]\n",
    "\n",
    "        if (index1-1 < len(password) and password[index1-1] == letter) != (index2-1 < len(password) and password[index2-1] == letter):\n",
    "            nValidPasswords = nValidPasswords + 1\n",
    "\n",
    "    return nValidPasswords\n",
    "\n",
    "# Test first\n",
    "print(\"Running on test data. Verifying result...\")\n",
    "print(count_valid_passwords2(test_data) == 1)\n",
    "print('')\n",
    "\n",
    "# Now run on actual data\n",
    "print(\"Puzzle answer is: \" + str(count_valid_passwords2(real_data)))"
   ]
  },
  {
   "cell_type": "code",
   "execution_count": 29,
   "metadata": {},
   "outputs": [
    {
     "name": "stdout",
     "output_type": "stream",
     "text": [
      "Running on test data. Verifying result...\n",
      "True\n",
      "\n",
      "Puzzle answer is: 191\n"
     ]
    }
   ],
   "source": [
    "# Day 3 Part 1\n",
    "def count_the_trees(data):    \n",
    "    slope_length = len(data)\n",
    "    pattern_width = len(data[0])\n",
    "\n",
    "    x = 0 \n",
    "    y = 0\n",
    "    n_trees = 0\n",
    "\n",
    "    for level in data:\n",
    "        if level[x] == '#':\n",
    "            n_trees = n_trees + 1\n",
    "            level = level[:x] + 'X' + level[x + 1:]\n",
    "        else:\n",
    "            level = level[:x] + '0' + level[x + 1:]\n",
    "\n",
    "        x = (x + 3) % pattern_width\n",
    "        y = y + 1\n",
    "        \n",
    "    return n_trees\n",
    "\n",
    "# Test first\n",
    "with open('test_data/day3.txt', 'r') as in_file:\n",
    "    test_data = in_file.read().split('\\n')\n",
    "    \n",
    "print(\"Running on test data. Verifying result...\")\n",
    "print(count_the_trees(test_data) == 7)\n",
    "print('')\n",
    "\n",
    "\n",
    "# Now run on actual data\n",
    "with open('data/day3.txt', 'r') as in_file:\n",
    "    real_data = in_file.read().split('\\n')\n",
    "print(\"Puzzle answer is: \" + str(count_the_trees(real_data)))"
   ]
  },
  {
   "cell_type": "code",
   "execution_count": 41,
   "metadata": {
    "scrolled": true
   },
   "outputs": [
    {
     "name": "stdout",
     "output_type": "stream",
     "text": [
      "Running on test data. Verifying result...\n",
      "True\n",
      "\n",
      "Puzzle answer is: 1478615040\n"
     ]
    }
   ],
   "source": [
    "# Day 3 Part 2\n",
    "def count_the_trees2(data, angles):\n",
    "    product = 1\n",
    "    tree_count = []\n",
    "    \n",
    "    slope_length = len(data)\n",
    "    pattern_width = len(data[0])\n",
    "    \n",
    "    for right, down in angles:\n",
    "        y = 0\n",
    "        n_trees = 0\n",
    "        for x in range(0, slope_length, down):\n",
    "            if data[x][y] == '#':\n",
    "                n_trees = n_trees + 1\n",
    "            y = (y + right) % pattern_width\n",
    "        tree_count.append(n_trees)\n",
    "        product = product * n_trees\n",
    "    return tree_count, product\n",
    "\n",
    "angles = [(1, 1), (3, 1), (5, 1), (7, 1), (1, 2)]\n",
    "\n",
    "# Test first\n",
    "print(\"Running on test data. Verifying result...\")\n",
    "print(count_the_trees2(test_data, angles) == ([2, 7, 3, 4, 2], 336))\n",
    "print('')\n",
    "\n",
    "# Now run on actual data\n",
    "print(\"Puzzle answer is: \" + str(count_the_trees2(real_data, angles)[1]))"
   ]
  },
  {
   "cell_type": "code",
   "execution_count": 45,
   "metadata": {},
   "outputs": [
    {
     "name": "stdout",
     "output_type": "stream",
     "text": [
      "Running on test data. Verifying result...\n",
      "True\n",
      "\n",
      "Puzzle answer is: 206\n"
     ]
    }
   ],
   "source": [
    "# Day 4 Part 1\n",
    "import re\n",
    "\n",
    "byrp = re.compile('byr:(.*?) ')\n",
    "iyrp = re.compile('iyr:(.*?) ')\n",
    "eyrp = re.compile('eyr:(.*?) ')\n",
    "hgtp = re.compile('hgt:(.*?) ')\n",
    "hclp = re.compile('hcl:(.*?) ')\n",
    "eclp = re.compile('ecl:(.*?) ')\n",
    "pidp = re.compile('pid:(.*?) ')\n",
    "cidp = re.compile('cid:(.*?) ')\n",
    "\n",
    "def count_valid_passports(data): \n",
    "    n_valid = 0\n",
    "\n",
    "    #print(\"Number of passports: \" + str(len(data)))\n",
    "    for passport in data:\n",
    "        passport = passport.replace('\\n', ' ') + ' ' #add a space to make sure you match the last item with the regex\n",
    "\n",
    "        is_valid = (len(byrp.findall(passport)) > 0 and len(iyrp.findall(passport)) > 0 and len(eyrp.findall(passport)) > 0 and \n",
    "                    len(hgtp.findall(passport)) > 0 and len(hclp.findall(passport)) > 0 and len(eclp.findall(passport)) > 0 and\n",
    "                    len(pidp.findall(passport)) > 0)\n",
    "\n",
    "        if is_valid:\n",
    "            n_valid = n_valid + 1\n",
    "\n",
    "        birth_year = byrp.findall(passport)\n",
    "        issue_year = iyrp.findall(passport)\n",
    "        exp_year = eyrp.findall(passport)\n",
    "        height = hgtp.findall(passport)\n",
    "        hair_color = hclp.findall(passport)\n",
    "        eye_color = eclp.findall(passport)\n",
    "        pass_id = pidp.findall(passport)\n",
    "        country_id = cidp.findall(passport)\n",
    "\n",
    "    return n_valid\n",
    "    \n",
    "# Test first\n",
    "with open('test_data/day4.txt', 'r') as in_file:\n",
    "    test_data = in_file.read().split('\\n\\n')\n",
    "print(\"Running on test data. Verifying result...\")\n",
    "print(count_valid_passports(test_data) == 2)\n",
    "print('')\n",
    "    \n",
    "# Now run on actual data    \n",
    "with open('data/day4.txt', 'r') as in_file:\n",
    "    real_data = in_file.read().split('\\n\\n')\n",
    "print(\"Puzzle answer is: \" + str(count_valid_passports(real_data)))"
   ]
  },
  {
   "cell_type": "code",
   "execution_count": 47,
   "metadata": {},
   "outputs": [
    {
     "name": "stdout",
     "output_type": "stream",
     "text": [
      "Running on test data. Verifying result...\n",
      "True\n",
      "\n",
      "Puzzle answer is: 123\n"
     ]
    }
   ],
   "source": [
    "# Day 4 Part 2\n",
    "import re\n",
    "\n",
    "# These are now different!\n",
    "byrp = re.compile('byr:([0-9]{4}) ')\n",
    "iyrp = re.compile('iyr:([0-9]{4}) ')\n",
    "eyrp = re.compile('eyr:([0-9]{4}) ')\n",
    "hgtp = re.compile('hgt:([0-9]+cm|[0-9]+in) ')\n",
    "hclp = re.compile('hcl:(#[0-9a-f]{6}) ')\n",
    "eclp = re.compile('ecl:(amb|blu|brn|gry|grn|hzl|oth) ')\n",
    "pidp = re.compile('pid:([0-9]{9}) ')\n",
    "cidp = re.compile('cid:(.*?) ')\n",
    "\n",
    "def is_valid_year(by, min_val, max_val):\n",
    "    return len(by) > 0 and int(by[0]) >= min_val and int(by[0]) <= max_val\n",
    "\n",
    "def is_valid_height(hgt):\n",
    "    if len(hgt) > 0:\n",
    "        if hgt[0][-2:] == \"cm\":\n",
    "            return int(hgt[0][:-2]) >= 150 and int(hgt[0][:-2]) <= 193\n",
    "        if hgt[0][-2:] == \"in\":\n",
    "            return int(hgt[0][:-2]) >= 59 and int(hgt[0][:-2]) <= 76\n",
    "\n",
    "def count_valid_passports2(data):\n",
    "    n_valid = 0\n",
    "\n",
    "    #print(\"Number of passports: \" + str(len(data)))\n",
    "    for passport in data:\n",
    "        passport = passport.replace('\\n', ' ') + ' ' #add a space to make sure you match the last item with the regex\n",
    "\n",
    "        is_valid = (is_valid_year(byrp.findall(passport), 1920, 2002) and\n",
    "                    is_valid_year(iyrp.findall(passport), 2010, 2020) and\n",
    "                    is_valid_year(eyrp.findall(passport), 2020, 2030) and\n",
    "                    is_valid_height(hgtp.findall(passport)) and \n",
    "                    len(hclp.findall(passport)) > 0 and len(eclp.findall(passport)) > 0 and \n",
    "                    len(pidp.findall(passport)) > 0)\n",
    "\n",
    "        if is_valid:\n",
    "            n_valid = n_valid + 1\n",
    "\n",
    "    return n_valid\n",
    "        #birth_year = byrp.findall(passport)\n",
    "        #issue_year = iyrp.findall(passport)\n",
    "        #exp_year = eyrp.findall(passport)\n",
    "        #height = hgtp.findall(passport)\n",
    "        #hair_color = hclp.findall(passport)\n",
    "        #eye_color = eclp.findall(passport)\n",
    "        #pass_id = pidp.findall(passport)\n",
    "        #country_id = cidp.findall(passport)\n",
    "    \n",
    "    \n",
    "# Test first\n",
    "print(\"Running on test data. Verifying result...\")\n",
    "with open('test_data/day4_all_invalid.txt', 'r') as in_file:\n",
    "    test_data_all_invalid = in_file.read().split('\\n\\n')\n",
    "with open('test_data/day4_all_valid.txt', 'r') as in_file:\n",
    "    test_data_all_valid = in_file.read().split('\\n\\n')\n",
    "print(count_valid_passports2(test_data_all_valid) == 4 and count_valid_passports2(test_data_all_invalid) == 0)\n",
    "print('')\n",
    "    \n",
    "# Now run on actual data    \n",
    "print(\"Puzzle answer is: \" + str(count_valid_passports2(real_data)))"
   ]
  },
  {
   "cell_type": "code",
   "execution_count": 56,
   "metadata": {},
   "outputs": [
    {
     "name": "stdout",
     "output_type": "stream",
     "text": [
      "Running on test data. Verifying result...\n",
      "True\n",
      "\n",
      "Puzzle answer is: 928\n"
     ]
    }
   ],
   "source": [
    "# Day 5 Part 1\n",
    "\n",
    "def get_seat_ID(boarding_pass):\n",
    "    row = boarding_pass[:7]\n",
    "    col = boarding_pass[7:]\n",
    "    \n",
    "    row = int(row.replace('B', '1').replace('F', '0'), 2)\n",
    "    col = int(col.replace('R', '1').replace('L', '0'), 2)\n",
    "    \n",
    "    return row * 8 + col\n",
    "\n",
    "# Test first\n",
    "with open('test_data/day5.txt', 'r') as in_file:\n",
    "    test_data = in_file.read().split('\\n')\n",
    "print(\"Running on test data. Verifying result...\")\n",
    "print([get_seat_ID(x) for x in test_data] == [567,119, 820])\n",
    "print('')\n",
    "\n",
    "# Now run on actual data\n",
    "with open('data/day5.txt', 'r') as in_file:\n",
    "    real_data = in_file.read().split('\\n')\n",
    "\n",
    "max_id = 0\n",
    "for boarding_pass in real_data:\n",
    "    seat_id = get_seat_ID(boarding_pass)\n",
    "    max_id = max(max_id, seat_id)\n",
    "    \n",
    "print(\"Puzzle answer is: \" + str(max_id))"
   ]
  },
  {
   "cell_type": "code",
   "execution_count": 58,
   "metadata": {},
   "outputs": [
    {
     "name": "stdout",
     "output_type": "stream",
     "text": [
      "Puzzle answer is: 610\n"
     ]
    }
   ],
   "source": [
    "# Day 5 Part 2\n",
    "all_ids = set(range(0, 929))\n",
    "\n",
    "for boarding_pass in real_data:\n",
    "    seat_id = get_seat_ID(boarding_pass)\n",
    "    all_ids.discard(seat_id)\n",
    "    \n",
    "my_seat = -1\n",
    "for seat in all_ids:\n",
    "    if ((seat + 1) not in all_ids) and ((seat - 1) not in all_ids):\n",
    "        my_seat = seat\n",
    "        break\n",
    "\n",
    "print(\"Puzzle answer is: \" + str(my_seat))"
   ]
  },
  {
   "cell_type": "code",
   "execution_count": 59,
   "metadata": {},
   "outputs": [
    {
     "name": "stdout",
     "output_type": "stream",
     "text": [
      "Running on test data. Verifying result...\n",
      "True\n",
      "\n",
      "Puzzle answer is: 6297\n"
     ]
    }
   ],
   "source": [
    "# Day 6 Part 1\n",
    "\n",
    "def get_answer_count(data):\n",
    "    total_count = 0\n",
    "    \n",
    "    for group in data:\n",
    "        group_answers = group.replace('\\n', '')\n",
    "        group_answers = set(group_answers)\n",
    "        total_count = total_count + len(group_answers)\n",
    "    return total_count\n",
    "\n",
    "# Test first\n",
    "with open('test_data/day6.txt', 'r') as in_file:\n",
    "    test_data = in_file.read().split('\\n\\n')\n",
    "print(\"Running on test data. Verifying result...\")\n",
    "print(get_answer_count(test_data) == 11)\n",
    "print('')\n",
    "\n",
    "# Now run on actual data\n",
    "with open('data/day6.txt', 'r') as in_file:\n",
    "    real_data = in_file.read().split('\\n\\n')\n",
    "print(\"Puzzle answer is: \" + str(get_answer_count(real_data)))"
   ]
  },
  {
   "cell_type": "code",
   "execution_count": 61,
   "metadata": {},
   "outputs": [
    {
     "name": "stdout",
     "output_type": "stream",
     "text": [
      "Running on test data. Verifying result...\n",
      "True\n",
      "\n",
      "Puzzle answer is: 3158\n"
     ]
    }
   ],
   "source": [
    "# Day 6 Part 2\n",
    "def get_answer_count2(data):\n",
    "    total_count = 0\n",
    "\n",
    "    for group in data:\n",
    "        individual_answers = group.split('\\n')\n",
    "        unique_answers = individual_answers[0]\n",
    "        for answer in individual_answers[1:]:\n",
    "            unique_answers = list(set(answer).intersection(unique_answers))\n",
    "\n",
    "        total_count = total_count + len(unique_answers)\n",
    "\n",
    "    return total_count\n",
    "\n",
    "\n",
    "# Test first\n",
    "print(\"Running on test data. Verifying result...\")\n",
    "print(get_answer_count2(test_data) == 6)\n",
    "print('')\n",
    "\n",
    "# Now run on actual data\n",
    "print(\"Puzzle answer is: \" + str(get_answer_count2(real_data)))"
   ]
  },
  {
   "cell_type": "code",
   "execution_count": 64,
   "metadata": {},
   "outputs": [
    {
     "name": "stdout",
     "output_type": "stream",
     "text": [
      "Running on test data. Verifying result...\n",
      "True\n",
      "\n",
      "Puzzle answer is: 192\n"
     ]
    }
   ],
   "source": [
    "# Day 7 Part 1\n",
    "import re\n",
    "\n",
    "def count_all_contain_at_least_one(rules, color):\n",
    "    is_contained_in = {}\n",
    "    rule_pattern = re.compile('([0-9]+) (.*?) bag')\n",
    "\n",
    "    # first map out the graph without keeping track of amounts\n",
    "    for rule in rules:\n",
    "        big_bag_color, small_bags = rule.split(' bags contain ')\n",
    "        small_bags_colors = rule_pattern.findall(small_bags)\n",
    "\n",
    "        for amount, small_bag_color in small_bags_colors:\n",
    "            if small_bag_color not in is_contained_in:\n",
    "                is_contained_in[small_bag_color] = []\n",
    "            is_contained_in[small_bag_color].append(big_bag_color)\n",
    "\n",
    "    answer = set()\n",
    "    waiting_list = set(is_contained_in[color])\n",
    "\n",
    "    while len(waiting_list) > 0:\n",
    "        new_color = waiting_list.pop()\n",
    "        if new_color in answer:\n",
    "            continue\n",
    "\n",
    "        # push new candidate colors to the set\n",
    "        if new_color in is_contained_in:\n",
    "            waiting_list.update(is_contained_in[new_color])\n",
    "        answer.add(new_color)\n",
    "\n",
    "    return len(answer)\n",
    "\n",
    "# Test first\n",
    "with open('test_data/day7.txt', 'r') as in_file:\n",
    "    test_data = in_file.read().split('\\n')\n",
    "print(\"Running on test data. Verifying result...\")\n",
    "print(count_all_contain_at_least_one(test_data, 'shiny gold') == 4)\n",
    "print('')\n",
    "\n",
    "# Now run on actual data\n",
    "with open('data/day7.txt', 'r') as in_file:\n",
    "    real_data = in_file.read().split('\\n')\n",
    "print(\"Puzzle answer is: \" + str(count_all_contain_at_least_one(real_data, 'shiny gold')))"
   ]
  },
  {
   "cell_type": "code",
   "execution_count": 67,
   "metadata": {},
   "outputs": [
    {
     "name": "stdout",
     "output_type": "stream",
     "text": [
      "Running on test data. Verifying result...\n",
      "True\n",
      "\n",
      "Puzzle answer is: 12128\n"
     ]
    }
   ],
   "source": [
    "# Day 7 Part 2\n",
    "\n",
    "def count_required_bags_inside(rules, color):\n",
    "\n",
    "    contains = {}\n",
    "    rule_pattern = re.compile('([0-9]+) (.*?) bag')\n",
    "\n",
    "    # Map out the graph the other way around, and keep track of the amounts\n",
    "    for rule in rules:\n",
    "        big_bag_color, small_bags = rule.split(' bags contain ')\n",
    "        small_bags_colors = rule_pattern.findall(small_bags)\n",
    "\n",
    "        if big_bag_color not in contains:\n",
    "            contains[big_bag_color] = []\n",
    "\n",
    "        for amount, small_bag_color in small_bags_colors:\n",
    "            contains[big_bag_color].append((int(amount), small_bag_color))\n",
    "        \n",
    "    # Now go through the graph and accumulate multipliers\n",
    "    answer = 0\n",
    "    waiting_list = list(contains[color])\n",
    "\n",
    "    while len(waiting_list) > 0:\n",
    "        amount, color = waiting_list.pop()\n",
    "        answer = answer + amount\n",
    "\n",
    "        for count, item in contains[color]:\n",
    "            waiting_list.append((amount * count, item))\n",
    "\n",
    "    return answer\n",
    "            \n",
    "# Test first\n",
    "print(\"Running on test data. Verifying result...\")\n",
    "with open('test_data/day7_2.txt', 'r') as in_file:\n",
    "    test_data2 = in_file.read().split('\\n')\n",
    "print(count_required_bags_inside(test_data, 'shiny gold') == 32 and count_required_bags_inside(test_data2, 'shiny gold') == 126)\n",
    "print('')\n",
    "\n",
    "# Now run on actual data\n",
    "print(\"Puzzle answer is: \" + str(count_required_bags_inside(real_data, 'shiny gold')))"
   ]
  }
 ],
 "metadata": {
  "kernelspec": {
   "display_name": "Python 3",
   "language": "python",
   "name": "python3"
  },
  "language_info": {
   "codemirror_mode": {
    "name": "ipython",
    "version": 3
   },
   "file_extension": ".py",
   "mimetype": "text/x-python",
   "name": "python",
   "nbconvert_exporter": "python",
   "pygments_lexer": "ipython3",
   "version": "3.8.5"
  }
 },
 "nbformat": 4,
 "nbformat_minor": 4
}
