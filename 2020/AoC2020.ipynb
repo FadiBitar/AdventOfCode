{
 "cells": [
  {
   "cell_type": "code",
   "execution_count": 230,
   "metadata": {
    "scrolled": false
   },
   "outputs": [
    {
     "name": "stdout",
     "output_type": "stream",
     "text": [
      "29212176\n"
     ]
    }
   ],
   "source": [
    "# Day 1 Part 2\n",
    "import numpy as np\n",
    "\n",
    "data = np.loadtxt('input_day1.txt', dtype=np.int32)\n",
    "data = np.sort(data)\n",
    "\n",
    "lastQualifiedIndex = len(data) - 1\n",
    "found = False\n",
    "\n",
    "for item in data[::-1]:\n",
    "    temp = 2020 - item\n",
    "    for item2 in data:\n",
    "        if item2 > temp:\n",
    "            break\n",
    "        item3 = 2020 - item - item2\n",
    "        data_list = data.tolist()\n",
    "        try:\n",
    "            data_list.index(item3) > -1\n",
    "            print(item * item2 * item3)\n",
    "            found = True\n",
    "            break\n",
    "        except:\n",
    "            pass\n",
    "    if found:\n",
    "        break"
   ]
  },
  {
   "cell_type": "code",
   "execution_count": 219,
   "metadata": {},
   "outputs": [
    {
     "name": "stdout",
     "output_type": "stream",
     "text": [
      "625\n"
     ]
    }
   ],
   "source": [
    "# Day 2 Part 1\n",
    "with open('input_day2.txt', 'r') as in_file:\n",
    "    data = in_file.read().split('\\n')\n",
    "\n",
    "nValidPasswords = 0\n",
    "    \n",
    "for entry in data:\n",
    "    ranges, letter, password = entry.split()\n",
    "    min_range, max_range = ranges.split('-')\n",
    "    min_range = int(min_range)\n",
    "    max_range = int(max_range)\n",
    "    letter = letter[:-1]\n",
    "    \n",
    "    char_occurrences = password.count(letter)\n",
    "    if char_occurrences >= min_range and char_occurrences <= max_range:\n",
    "        nValidPasswords = nValidPasswords + 1\n",
    "        \n",
    "        \n",
    "print(nValidPasswords)"
   ]
  },
  {
   "cell_type": "code",
   "execution_count": 220,
   "metadata": {},
   "outputs": [
    {
     "name": "stdout",
     "output_type": "stream",
     "text": [
      "391\n"
     ]
    }
   ],
   "source": [
    "# Day 2 Part 2\n",
    "\n",
    "with open('input_day2.txt', 'r') as in_file:\n",
    "    data = in_file.read().split('\\n')\n",
    "\n",
    "nValidPasswords = 0\n",
    "    \n",
    "for entry in data:\n",
    "    indices, letter, password = entry.split()\n",
    "    index1, index2 = indices.split('-')\n",
    "    index1 = int(index1)\n",
    "    index2 = int(index2)\n",
    "    letter = letter[:-1]\n",
    " \n",
    "    if (index1-1 < len(password) and password[index1-1] == letter) != (index2-1 < len(password) and password[index2-1] == letter):\n",
    "        nValidPasswords = nValidPasswords + 1\n",
    "        \n",
    "print(nValidPasswords)"
   ]
  },
  {
   "cell_type": "code",
   "execution_count": 231,
   "metadata": {},
   "outputs": [
    {
     "name": "stdout",
     "output_type": "stream",
     "text": [
      "191\n"
     ]
    }
   ],
   "source": [
    "# Day 3 Part 1\n",
    "\n",
    "with open('input_day3.txt', 'r') as in_file:\n",
    "    data = in_file.read().split('\\n')\n",
    "    \n",
    "slope_length = len(data)\n",
    "pattern_width = len(data[0])\n",
    "\n",
    "x = 0 \n",
    "y = 0\n",
    "n_trees = 0\n",
    "\n",
    "for level in data:\n",
    "    if level[x] == '#':\n",
    "        n_trees = n_trees + 1\n",
    "        level = level[:x] + 'X' + level[x + 1:]\n",
    "    else:\n",
    "        level = level[:x] + '0' + level[x + 1:]\n",
    "    \n",
    "#    print(level)\n",
    "    x = (x + 3) % pattern_width\n",
    "    y = y + 1\n",
    "\n",
    "#print(slope_length)\n",
    "print(n_trees)"
   ]
  },
  {
   "cell_type": "code",
   "execution_count": 232,
   "metadata": {
    "scrolled": true
   },
   "outputs": [
    {
     "name": "stdout",
     "output_type": "stream",
     "text": [
      "1478615040\n"
     ]
    }
   ],
   "source": [
    "# Day 3 Part 2\n",
    "\n",
    "with open('input_day3.txt', 'r') as in_file:\n",
    "    data = in_file.read().split('\\n')\n",
    "    \n",
    "slope_length = len(data)\n",
    "pattern_width = len(data[0])\n",
    "\n",
    "product = 1\n",
    "\n",
    "angles = [(1, 1), (3, 1), (5, 1), (7, 1), (1, 2)]\n",
    "\n",
    "for right, down in angles:\n",
    "    y = 0\n",
    "    n_trees = 0\n",
    "    for x in range(0, slope_length, down):\n",
    "        if data[x][y] == '#':\n",
    "            n_trees = n_trees + 1\n",
    "        y = (y + right) % pattern_width\n",
    "    #print(right, down, n_trees)\n",
    "    product = product * n_trees\n",
    "        \n",
    "print(product)"
   ]
  },
  {
   "cell_type": "code",
   "execution_count": 224,
   "metadata": {},
   "outputs": [
    {
     "name": "stdout",
     "output_type": "stream",
     "text": [
      "Number of passports: 257\n",
      "Number of valid passports: 206\n"
     ]
    }
   ],
   "source": [
    "# Day 4 Part 1\n",
    "import re\n",
    "\n",
    "with open('input_day4.txt', 'r') as in_file:\n",
    "    data = in_file.read().split('\\n\\n')\n",
    "    \n",
    "byrp = re.compile('byr:(.*?) ')\n",
    "iyrp = re.compile('iyr:(.*?) ')\n",
    "eyrp = re.compile('eyr:(.*?) ')\n",
    "hgtp = re.compile('hgt:(.*?) ')\n",
    "hclp = re.compile('hcl:(.*?) ')\n",
    "eclp = re.compile('ecl:(.*?) ')\n",
    "pidp = re.compile('pid:(.*?) ')\n",
    "cidp = re.compile('cid:(.*?) ')\n",
    "\n",
    "n_valid = 0\n",
    "\n",
    "print(\"Number of passports: \" + str(len(data)))\n",
    "for passport in data:\n",
    "    passport = passport.replace('\\n', ' ') + ' ' #add a space to make sure you match the last item with the regex\n",
    "    \n",
    "    is_valid = (len(byrp.findall(passport)) > 0 and len(iyrp.findall(passport)) > 0 and len(eyrp.findall(passport)) > 0 and \n",
    "                len(hgtp.findall(passport)) > 0 and len(hclp.findall(passport)) > 0 and len(eclp.findall(passport)) > 0 and\n",
    "                len(pidp.findall(passport)) > 0)\n",
    "    \n",
    "    if is_valid:\n",
    "        n_valid = n_valid + 1\n",
    "        \n",
    "    birth_year = byrp.findall(passport)\n",
    "    issue_year = iyrp.findall(passport)\n",
    "    exp_year = eyrp.findall(passport)\n",
    "    height = hgtp.findall(passport)\n",
    "    hair_color = hclp.findall(passport)\n",
    "    eye_color = eclp.findall(passport)\n",
    "    pass_id = pidp.findall(passport)\n",
    "    country_id = cidp.findall(passport)\n",
    "    \n",
    "print(\"Number of valid passports: \" + str(n_valid))"
   ]
  },
  {
   "cell_type": "code",
   "execution_count": 225,
   "metadata": {},
   "outputs": [
    {
     "name": "stdout",
     "output_type": "stream",
     "text": [
      "Number of passports: 257\n",
      "Number of valid passports: 123\n"
     ]
    }
   ],
   "source": [
    "# Day 4 Part 2\n",
    "import re\n",
    "\n",
    "def is_valid_year(by, min_val, max_val):\n",
    "    return len(by) > 0 and int(by[0]) >= min_val and int(by[0]) <= max_val\n",
    "\n",
    "def is_valid_height(hgt):\n",
    "    if len(hgt) > 0:\n",
    "        if hgt[0][-2:] == \"cm\":\n",
    "            return int(hgt[0][:-2]) >= 150 and int(hgt[0][:-2]) <= 193\n",
    "        if hgt[0][-2:] == \"in\":\n",
    "            return int(hgt[0][:-2]) >= 59 and int(hgt[0][:-2]) <= 76\n",
    "\n",
    "with open('input_day4.txt', 'r') as in_file:\n",
    "    data = in_file.read().split('\\n\\n')\n",
    "    \n",
    "byrp = re.compile('byr:([0-9]{4}) ')\n",
    "iyrp = re.compile('iyr:([0-9]{4}) ')\n",
    "eyrp = re.compile('eyr:([0-9]{4}) ')\n",
    "hgtp = re.compile('hgt:([0-9]+cm|[0-9]+in) ')\n",
    "hclp = re.compile('hcl:(#[0-9a-f]{6}) ')\n",
    "eclp = re.compile('ecl:(amb|blu|brn|gry|grn|hzl|oth) ')\n",
    "pidp = re.compile('pid:([0-9]{9}) ')\n",
    "cidp = re.compile('cid:(.*?) ')\n",
    "\n",
    "n_valid = 0\n",
    "\n",
    "print(\"Number of passports: \" + str(len(data)))\n",
    "for passport in data:\n",
    "    passport = passport.replace('\\n', ' ') + ' ' #add a space to make sure you match the last item with the regex\n",
    "    \n",
    "    is_valid = (is_valid_year(byrp.findall(passport), 1920, 2002) and\n",
    "                is_valid_year(iyrp.findall(passport), 2010, 2020) and\n",
    "                is_valid_year(eyrp.findall(passport), 2020, 2030) and\n",
    "                is_valid_height(hgtp.findall(passport)) and \n",
    "                len(hclp.findall(passport)) > 0 and len(eclp.findall(passport)) > 0 and \n",
    "                len(pidp.findall(passport)) > 0)\n",
    "                   \n",
    "    if is_valid:\n",
    "        n_valid = n_valid + 1\n",
    "        \n",
    "    birth_year = byrp.findall(passport)\n",
    "    issue_year = iyrp.findall(passport)\n",
    "    exp_year = eyrp.findall(passport)\n",
    "    height = hgtp.findall(passport)\n",
    "    hair_color = hclp.findall(passport)\n",
    "    eye_color = eclp.findall(passport)\n",
    "    pass_id = pidp.findall(passport)\n",
    "    country_id = cidp.findall(passport)\n",
    "    \n",
    "    \n",
    "print(\"Number of valid passports: \" + str(n_valid))"
   ]
  },
  {
   "cell_type": "code",
   "execution_count": 226,
   "metadata": {},
   "outputs": [
    {
     "name": "stdout",
     "output_type": "stream",
     "text": [
      "928\n"
     ]
    }
   ],
   "source": [
    "# Day 5 Part 1\n",
    "\n",
    "def get_seat_ID(boarding_pass):\n",
    "    row = boarding_pass[:7]\n",
    "    col = boarding_pass[7:]\n",
    "    \n",
    "    row = int(row.replace('B', '1').replace('F', '0'), 2)\n",
    "    col = int(col.replace('R', '1').replace('L', '0'), 2)\n",
    "    \n",
    "    #print(\"Boarding pass: \" + boarding_pass)\n",
    "    #print(\"Row: \" + str(row) + \", Col: \" + str(col))\n",
    "    return row * 8 + col\n",
    "\n",
    "with open('input_day5.txt', 'r') as in_file:\n",
    "    boarding_passes = in_file.read().split('\\n')\n",
    "\n",
    "max_id = 0\n",
    "\n",
    "for boarding_pass in boarding_passes:\n",
    "    seat_id = get_seat_ID(boarding_pass)\n",
    "    max_id = max(max_id, seat_id)\n",
    "    \n",
    "print(max_id)"
   ]
  },
  {
   "cell_type": "code",
   "execution_count": 161,
   "metadata": {},
   "outputs": [
    {
     "name": "stdout",
     "output_type": "stream",
     "text": [
      "My seat is: 610\n"
     ]
    }
   ],
   "source": [
    "# Day 5 Part 2\n",
    "all_ids = set(range(0, 929))\n",
    "\n",
    "for boarding_pass in boarding_passes:\n",
    "    seat_id = get_seat_ID(boarding_pass)\n",
    "    all_ids.discard(seat_id)\n",
    "    \n",
    "my_seat = -1\n",
    "for seat in all_ids:\n",
    "    if ((seat + 1) not in all_ids) and ((seat - 1) not in all_ids):\n",
    "        my_seat = seat\n",
    "        break\n",
    "\n",
    "print(\"My seat is: \" + str(my_seat))"
   ]
  },
  {
   "cell_type": "code",
   "execution_count": 227,
   "metadata": {},
   "outputs": [
    {
     "name": "stdout",
     "output_type": "stream",
     "text": [
      "6297\n"
     ]
    }
   ],
   "source": [
    "# Day 6 Part 1\n",
    "\n",
    "with open('input_day6.txt', 'r') as in_file:\n",
    "    answers = in_file.read().split('\\n\\n')\n",
    "\n",
    "total_count = 0\n",
    "    \n",
    "for group in answers:\n",
    "    group_answers = group.replace('\\n', '')\n",
    "    group_answers = set(group_answers)\n",
    "    total_count = total_count + len(group_answers)\n",
    "\n",
    "print(total_count)"
   ]
  },
  {
   "cell_type": "code",
   "execution_count": 174,
   "metadata": {},
   "outputs": [
    {
     "name": "stdout",
     "output_type": "stream",
     "text": [
      "3158\n"
     ]
    }
   ],
   "source": [
    "# Day 6 Part 2\n",
    "total_count = 0\n",
    "\n",
    "for group in answers:\n",
    "    individual_answers = group.split('\\n')\n",
    "    unique_answers = individual_answers[0]\n",
    "    for answer in individual_answers[1:]:\n",
    "        unique_answers = list(set(answer).intersection(unique_answers))\n",
    "        \n",
    "    total_count = total_count + len(unique_answers)\n",
    "print(total_count)"
   ]
  },
  {
   "cell_type": "code",
   "execution_count": 208,
   "metadata": {},
   "outputs": [
    {
     "name": "stdout",
     "output_type": "stream",
     "text": [
      "192\n"
     ]
    }
   ],
   "source": [
    "# Day 7 Part 1\n",
    "import re\n",
    "\n",
    "with open('input_day7.txt', 'r') as in_file:\n",
    "    rules = in_file.read().split('\\n')\n",
    "\n",
    "is_contained_in = {}\n",
    "rule_pattern = re.compile('([0-9]+) (.*?) bag')\n",
    "\n",
    "# first map out the graph without keeping track of amounts\n",
    "for rule in rules:\n",
    "    big_bag_color, small_bags = rule.split(' bags contain ')\n",
    "    small_bags_colors = rule_pattern.findall(small_bags)\n",
    "    \n",
    "    for amount, small_bag_color in small_bags_colors:\n",
    "        if small_bag_color not in is_contained_in:\n",
    "            is_contained_in[small_bag_color] = []\n",
    "        is_contained_in[small_bag_color].append(big_bag_color)\n",
    "\n",
    "answer = set()\n",
    "waiting_list = set(is_contained_in['shiny gold'])\n",
    "\n",
    "while len(waiting_list) > 0:\n",
    "    new_color = waiting_list.pop()\n",
    "    if new_color in answer:\n",
    "        continue\n",
    "\n",
    "    # push new candidate colors to the set\n",
    "    if new_color in is_contained_in:\n",
    "        waiting_list.update(is_contained_in[new_color])\n",
    "    answer.add(new_color)\n",
    "\n",
    "print(len(answer))"
   ]
  },
  {
   "cell_type": "code",
   "execution_count": 216,
   "metadata": {},
   "outputs": [
    {
     "name": "stdout",
     "output_type": "stream",
     "text": [
      "12128\n"
     ]
    }
   ],
   "source": [
    "# Day 7 Part 2\n",
    "\n",
    "contains = {}\n",
    "rule_pattern = re.compile('([0-9]+) (.*?) bag')\n",
    "\n",
    "test_rules = \"\"\"shiny gold bags contain 2 dark red bags.\n",
    "dark red bags contain 2 dark orange bags.\n",
    "dark orange bags contain 2 dark yellow bags.\n",
    "dark yellow bags contain 2 dark green bags.\n",
    "dark green bags contain 2 dark blue bags.\n",
    "dark blue bags contain 2 dark violet bags.\n",
    "dark violet bags contain no other bags.\"\"\".split('\\n')\n",
    "\n",
    "# Map out the graph the other way around, and keep track of the amounts\n",
    "for rule in rules:\n",
    "    big_bag_color, small_bags = rule.split(' bags contain ')\n",
    "    small_bags_colors = rule_pattern.findall(small_bags)\n",
    "    \n",
    "    if big_bag_color not in contains:\n",
    "        contains[big_bag_color] = []\n",
    "    \n",
    "    for amount, small_bag_color in small_bags_colors:\n",
    "        contains[big_bag_color].append((int(amount), small_bag_color))\n",
    "        \n",
    "        \n",
    "# Now go through the graph and accumulate multipliers\n",
    "answer = 0\n",
    "waiting_list = list(contains['shiny gold'])\n",
    "\n",
    "while len(waiting_list) > 0:\n",
    "    amount, color = waiting_list.pop()\n",
    "    answer = answer + amount\n",
    "    \n",
    "    for count, item in contains[color]:\n",
    "        waiting_list.append((amount * count, item))\n",
    "\n",
    "print(answer)"
   ]
  }
 ],
 "metadata": {
  "kernelspec": {
   "display_name": "Python 3",
   "language": "python",
   "name": "python3"
  },
  "language_info": {
   "codemirror_mode": {
    "name": "ipython",
    "version": 3
   },
   "file_extension": ".py",
   "mimetype": "text/x-python",
   "name": "python",
   "nbconvert_exporter": "python",
   "pygments_lexer": "ipython3",
   "version": "3.8.5"
  }
 },
 "nbformat": 4,
 "nbformat_minor": 4
}
